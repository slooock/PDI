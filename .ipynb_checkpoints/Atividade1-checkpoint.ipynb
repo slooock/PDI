{
 "cells": [
  {
   "cell_type": "code",
   "execution_count": 8,
   "metadata": {},
   "outputs": [],
   "source": [
    "import numpy as np\n",
    "import cv2\n",
    "from matplotlib import pyplot as plt\n",
    "import matplotlib\n",
    "from skimage.data import page\n",
    "from skimage.filters import (threshold_otsu, threshold_niblack,threshold_sauvola)\n",
    "import mahotas\n",
    "imagem1 = 'imagemCancun.png'"
   ]
  },
  {
   "cell_type": "markdown",
   "metadata": {},
   "source": [
    "# Exercicio 1"
   ]
  },
  {
   "cell_type": "code",
   "execution_count": null,
   "metadata": {},
   "outputs": [],
   "source": [
    "imagem = cv2.imread(imagem1)\n",
    "(B, G, R) = cv2.split(imagem)\n",
    "color = ('B','G','R')\n",
    "cv2.imshow(\"Azul\",B)\n",
    "cv2.imshow(\"Verde\",G)\n",
    "cv2.imshow(\"Vermelho\",R)\n",
    "cv2.waitKey(0)"
   ]
  },
  {
   "cell_type": "markdown",
   "metadata": {},
   "source": [
    "# Exercício 2"
   ]
  },
  {
   "cell_type": "code",
   "execution_count": 1,
   "metadata": {},
   "outputs": [
    {
     "ename": "NameError",
     "evalue": "name 'cv2' is not defined",
     "output_type": "error",
     "traceback": [
      "\u001b[0;31m---------------------------------------------------------------------------\u001b[0m",
      "\u001b[0;31mNameError\u001b[0m                                 Traceback (most recent call last)",
      "\u001b[0;32m<ipython-input-1-4561a10b67d7>\u001b[0m in \u001b[0;36m<module>\u001b[0;34m()\u001b[0m\n\u001b[0;32m----> 1\u001b[0;31m \u001b[0mimg\u001b[0m \u001b[0;34m=\u001b[0m \u001b[0mcv2\u001b[0m\u001b[0;34m.\u001b[0m\u001b[0mimread\u001b[0m\u001b[0;34m(\u001b[0m\u001b[0mimagem1\u001b[0m\u001b[0;34m)\u001b[0m\u001b[0;34m\u001b[0m\u001b[0;34m\u001b[0m\u001b[0m\n\u001b[0m\u001b[1;32m      2\u001b[0m \u001b[0;31m# img = cv2.cvtColor(img, cv2.COLOR_BGR2GRAY) # converte\u001b[0m\u001b[0;34m\u001b[0m\u001b[0;34m\u001b[0m\u001b[0;34m\u001b[0m\u001b[0m\n\u001b[1;32m      3\u001b[0m \u001b[0msuave\u001b[0m \u001b[0;34m=\u001b[0m \u001b[0mcv2\u001b[0m\u001b[0;34m.\u001b[0m\u001b[0mGaussianBlur\u001b[0m\u001b[0;34m(\u001b[0m\u001b[0mimg\u001b[0m\u001b[0;34m,\u001b[0m \u001b[0;34m(\u001b[0m\u001b[0;36m7\u001b[0m\u001b[0;34m,\u001b[0m \u001b[0;36m7\u001b[0m\u001b[0;34m)\u001b[0m\u001b[0;34m,\u001b[0m \u001b[0;36m0\u001b[0m\u001b[0;34m)\u001b[0m \u001b[0;31m# aplica blur\u001b[0m\u001b[0;34m\u001b[0m\u001b[0;34m\u001b[0m\u001b[0m\n\u001b[1;32m      4\u001b[0m \u001b[0mT\u001b[0m \u001b[0;34m=\u001b[0m \u001b[0mmahotas\u001b[0m\u001b[0;34m.\u001b[0m\u001b[0mthresholding\u001b[0m\u001b[0;34m.\u001b[0m\u001b[0motsu\u001b[0m\u001b[0;34m(\u001b[0m\u001b[0msuave\u001b[0m\u001b[0;34m)\u001b[0m\u001b[0;34m\u001b[0m\u001b[0;34m\u001b[0m\u001b[0m\n\u001b[1;32m      5\u001b[0m \u001b[0mtemp\u001b[0m \u001b[0;34m=\u001b[0m \u001b[0mimg\u001b[0m\u001b[0;34m.\u001b[0m\u001b[0mcopy\u001b[0m\u001b[0;34m(\u001b[0m\u001b[0;34m)\u001b[0m\u001b[0;34m\u001b[0m\u001b[0;34m\u001b[0m\u001b[0m\n",
      "\u001b[0;31mNameError\u001b[0m: name 'cv2' is not defined"
     ]
    }
   ],
   "source": [
    "img = cv2.imread(imagem1)\n",
    "# img = cv2.cvtColor(img, cv2.COLOR_BGR2GRAY) # converte\n",
    "suave = cv2.GaussianBlur(img, (7, 7), 0) # aplica blur\n",
    "T = mahotas.thresholding.otsu(suave)\n",
    "temp = img.copy()\n",
    "temp[temp > T] = 255\n",
    "temp[temp < 255] = 0\n",
    "temp = cv2.bitwise_not(temp)\n",
    "\n",
    "\n",
    "cv2.imshow(\"Binarização com método Otsu e Riddler-Calvard\",temp)\n",
    "cv2.waitKey(0)"
   ]
  },
  {
   "cell_type": "markdown",
   "metadata": {},
   "source": [
    "# Exercicio 3 "
   ]
  },
  {
   "cell_type": "code",
   "execution_count": null,
   "metadata": {},
   "outputs": [],
   "source": [
    "img = cv2.imread(imagem1)\n",
    "img = cv2.cvtColor(img, cv2.COLOR_BGR2GRAY) # converte\n",
    "suave = cv2.GaussianBlur(img, (7, 7), 0) # aplica blur\n",
    "T = mahotas.thresholding.otsu(suave)\n",
    "temp = img.copy()\n",
    "temp[temp > T] = 255\n",
    "temp[temp < 255] = 0\n",
    "temp = cv2.bitwise_not(temp)\n",
    "cv2.imshow(\"Binarização com método Otsu e Riddler-Calvard\",temp)\n",
    "cv2.waitKey(0)"
   ]
  },
  {
   "cell_type": "markdown",
   "metadata": {},
   "source": [
    "# Exercicio 5"
   ]
  },
  {
   "cell_type": "code",
   "execution_count": null,
   "metadata": {},
   "outputs": [],
   "source": [
    "import numpy as np\n",
    "import cv2\n",
    "from matplotlib import pyplot as plt\n",
    "import matplotlib\n",
    "from skimage.data import page\n",
    "from skimage.filters import (threshold_otsu, threshold_niblack,threshold_sauvola)\n",
    "import mahotas\n",
    "imagem1 = 'imagemCancun.png'\n",
    "\n",
    "img = cv2.imread(imagem1)\n",
    "Z = img.reshape((-1,3))\n",
    "# convert to np.float32\n",
    "Z = np.float32(Z)\n",
    "# define criteria, number of clusters(K) and apply kmeans()\n",
    "criteria = (cv2.TERM_CRITERIA_EPS + cv2.TERM_CRITERIA_MAX_ITER, 10, 1.0)\n",
    "K = 12\n",
    "ret,label,center=cv2.kmeans(Z,K,None,criteria,10,cv2.KMEANS_RANDOM_CENTERS)\n",
    "# Now convert back into uint8, and make original image\n",
    "center = np.uint8(center)\n",
    "res = center[label.flatten()]\n",
    "res2 = res.reshape((img.shape))\n",
    "cv2.imshow('res2',res2)\n",
    "cv2.waitKey(0)\n",
    "cv2.destroyAllWindows()\n",
    "print(center)\n",
    "print(label)"
   ]
  },
  {
   "cell_type": "code",
   "execution_count": 9,
   "metadata": {},
   "outputs": [
    {
     "name": "stdout",
     "output_type": "stream",
     "text": [
      "816\n",
      "[[58 62 27]\n",
      " [58 62 27]\n",
      " [58 62 27]\n",
      " ...\n",
      " [84 94 73]\n",
      " [84 94 73]\n",
      " [84 94 73]]\n"
     ]
    }
   ],
   "source": [
    "from matplotlib import pyplot as plt\n",
    "import numpy as np\n",
    "import cv2\n",
    "\n",
    "imagem1 = 'res2_screenshot_28.03.2019.png'\n",
    "img = cv2.imread(imagem1)\n",
    "cv2.imshow(\"Imagem Colorida\", img)\n",
    "#Separa os canais\n",
    "canais = cv2.split(img)\n",
    "\n",
    "print(len(img[0]))\n",
    "print(img[0])\n",
    "\n",
    "# cores = (\"b\", \"g\", \"r\")\n",
    "# plt.figure()\n",
    "# plt.title(\"'Histograma Colorido\")\n",
    "# plt.xlabel(\"Intensidade\")\n",
    "# plt.ylabel(\"Número de Pixels\")\n",
    "# for (canal, cor) in zip(canais, cores):\n",
    "#     #Este loop executa 3 vezes, uma para cada canal\n",
    "#     hist = cv2.calcHist([canal], [0], None, [256], [0, 256])\n",
    "#     plt.plot(hist, cor)\n",
    "#     plt.xlim([0, 256])\n",
    "# plt.show()"
   ]
  },
  {
   "cell_type": "code",
   "execution_count": 95,
   "metadata": {},
   "outputs": [
    {
     "ename": "NameError",
     "evalue": "name 'array' is not defined",
     "output_type": "error",
     "traceback": [
      "\u001b[0;31m---------------------------------------------------------------------------\u001b[0m",
      "\u001b[0;31mNameError\u001b[0m                                 Traceback (most recent call last)",
      "\u001b[0;32m<ipython-input-95-819da11a9086>\u001b[0m in \u001b[0;36m<module>\u001b[0;34m()\u001b[0m\n\u001b[1;32m      3\u001b[0m \u001b[0mb\u001b[0m \u001b[0;34m=\u001b[0m \u001b[0;34m[\u001b[0m\u001b[0mc\u001b[0m\u001b[0;34m,\u001b[0m\u001b[0mc\u001b[0m\u001b[0;34m,\u001b[0m\u001b[0mc\u001b[0m\u001b[0;34m]\u001b[0m\u001b[0;34m\u001b[0m\u001b[0;34m\u001b[0m\u001b[0m\n\u001b[1;32m      4\u001b[0m \u001b[0;34m\u001b[0m\u001b[0m\n\u001b[0;32m----> 5\u001b[0;31m \u001b[0ma\u001b[0m \u001b[0;34m=\u001b[0m \u001b[0marray\u001b[0m\u001b[0;34m(\u001b[0m\u001b[0;34m)\u001b[0m\u001b[0;34m\u001b[0m\u001b[0;34m\u001b[0m\u001b[0m\n\u001b[0m\u001b[1;32m      6\u001b[0m \u001b[0;34m\u001b[0m\u001b[0m\n\u001b[1;32m      7\u001b[0m \u001b[0municos\u001b[0m \u001b[0;34m=\u001b[0m \u001b[0mlist\u001b[0m\u001b[0;34m(\u001b[0m\u001b[0mset\u001b[0m\u001b[0;34m(\u001b[0m\u001b[0ma\u001b[0m\u001b[0;34m)\u001b[0m\u001b[0;34m)\u001b[0m\u001b[0;34m\u001b[0m\u001b[0;34m\u001b[0m\u001b[0m\n",
      "\u001b[0;31mNameError\u001b[0m: name 'array' is not defined"
     ]
    }
   ],
   "source": [
    "a = [1,2,3,3,3,3,2,2,2,21,1,2,21,2]\n",
    "c = [3,2,1]\n",
    "b = [c,c,c]\n",
    "\n",
    "\n",
    "\n",
    "unicos = list(set(a))\n",
    "unicos"
   ]
  },
  {
   "cell_type": "code",
   "execution_count": 11,
   "metadata": {},
   "outputs": [
    {
     "data": {
      "text/plain": [
       "array([[ 58,  62,  27],\n",
       "       [ 84,  94,  73],\n",
       "       [136, 148, 151],\n",
       "       [139,  98,  48],\n",
       "       [178, 189, 196]], dtype=uint8)"
      ]
     },
     "execution_count": 11,
     "metadata": {},
     "output_type": "execute_result"
    }
   ],
   "source": [
    "\n",
    "\n",
    "\n",
    "arroz = img[0]\n",
    "\n",
    "p = [58, 62, 27]\n",
    "p = np.asarray(p)\n",
    "\n",
    "# unicos = list(set(arroz))\n",
    "\n",
    "\n",
    "arroz = np.unique(arroz,axis=0)\n",
    "arroz\n",
    "\n",
    "# for vetor in feijao:\n",
    "#     if macarrao in arroz:\n",
    "#         print('a')"
   ]
  }
 ],
 "metadata": {
  "kernelspec": {
   "display_name": "Python 3",
   "language": "python",
   "name": "python3"
  },
  "language_info": {
   "codemirror_mode": {
    "name": "ipython",
    "version": 3
   },
   "file_extension": ".py",
   "mimetype": "text/x-python",
   "name": "python",
   "nbconvert_exporter": "python",
   "pygments_lexer": "ipython3",
   "version": "3.7.2"
  }
 },
 "nbformat": 4,
 "nbformat_minor": 2
}

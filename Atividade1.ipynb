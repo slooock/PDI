{
 "cells": [
  {
   "cell_type": "code",
   "execution_count": 130,
   "metadata": {},
   "outputs": [],
   "source": [
    "import numpy as np\n",
    "import cv2\n",
    "from matplotlib import pyplot as plt\n",
    "import matplotlib\n",
    "from skimage.data import page\n",
    "from skimage.filters import (threshold_otsu, threshold_niblack,threshold_sauvola)\n",
    "import mahotas\n",
    "import sys\n",
    "\n",
    "imagem1 = 'imagemCancun.png'"
   ]
  },
  {
   "cell_type": "markdown",
   "metadata": {},
   "source": [
    "# Exercicio 1"
   ]
  },
  {
   "cell_type": "code",
   "execution_count": null,
   "metadata": {},
   "outputs": [],
   "source": [
    "imagem = cv2.imread(imagem1)\n",
    "(B, G, R) = cv2.split(imagem)\n",
    "color = ('B','G','R')\n",
    "cv2.imshow(\"Azul\",B)\n",
    "cv2.imshow(\"Verde\",G)\n",
    "cv2.imshow(\"Vermelho\",R)\n",
    "cv2.waitKey(0)"
   ]
  },
  {
   "cell_type": "markdown",
   "metadata": {},
   "source": [
    "# Exercício 2"
   ]
  },
  {
   "cell_type": "code",
   "execution_count": 1,
   "metadata": {},
   "outputs": [
    {
     "ename": "NameError",
     "evalue": "name 'cv2' is not defined",
     "output_type": "error",
     "traceback": [
      "\u001b[0;31m---------------------------------------------------------------------------\u001b[0m",
      "\u001b[0;31mNameError\u001b[0m                                 Traceback (most recent call last)",
      "\u001b[0;32m<ipython-input-1-4561a10b67d7>\u001b[0m in \u001b[0;36m<module>\u001b[0;34m()\u001b[0m\n\u001b[0;32m----> 1\u001b[0;31m \u001b[0mimg\u001b[0m \u001b[0;34m=\u001b[0m \u001b[0mcv2\u001b[0m\u001b[0;34m.\u001b[0m\u001b[0mimread\u001b[0m\u001b[0;34m(\u001b[0m\u001b[0mimagem1\u001b[0m\u001b[0;34m)\u001b[0m\u001b[0;34m\u001b[0m\u001b[0;34m\u001b[0m\u001b[0m\n\u001b[0m\u001b[1;32m      2\u001b[0m \u001b[0;31m# img = cv2.cvtColor(img, cv2.COLOR_BGR2GRAY) # converte\u001b[0m\u001b[0;34m\u001b[0m\u001b[0;34m\u001b[0m\u001b[0;34m\u001b[0m\u001b[0m\n\u001b[1;32m      3\u001b[0m \u001b[0msuave\u001b[0m \u001b[0;34m=\u001b[0m \u001b[0mcv2\u001b[0m\u001b[0;34m.\u001b[0m\u001b[0mGaussianBlur\u001b[0m\u001b[0;34m(\u001b[0m\u001b[0mimg\u001b[0m\u001b[0;34m,\u001b[0m \u001b[0;34m(\u001b[0m\u001b[0;36m7\u001b[0m\u001b[0;34m,\u001b[0m \u001b[0;36m7\u001b[0m\u001b[0;34m)\u001b[0m\u001b[0;34m,\u001b[0m \u001b[0;36m0\u001b[0m\u001b[0;34m)\u001b[0m \u001b[0;31m# aplica blur\u001b[0m\u001b[0;34m\u001b[0m\u001b[0;34m\u001b[0m\u001b[0m\n\u001b[1;32m      4\u001b[0m \u001b[0mT\u001b[0m \u001b[0;34m=\u001b[0m \u001b[0mmahotas\u001b[0m\u001b[0;34m.\u001b[0m\u001b[0mthresholding\u001b[0m\u001b[0;34m.\u001b[0m\u001b[0motsu\u001b[0m\u001b[0;34m(\u001b[0m\u001b[0msuave\u001b[0m\u001b[0;34m)\u001b[0m\u001b[0;34m\u001b[0m\u001b[0;34m\u001b[0m\u001b[0m\n\u001b[1;32m      5\u001b[0m \u001b[0mtemp\u001b[0m \u001b[0;34m=\u001b[0m \u001b[0mimg\u001b[0m\u001b[0;34m.\u001b[0m\u001b[0mcopy\u001b[0m\u001b[0;34m(\u001b[0m\u001b[0;34m)\u001b[0m\u001b[0;34m\u001b[0m\u001b[0;34m\u001b[0m\u001b[0m\n",
      "\u001b[0;31mNameError\u001b[0m: name 'cv2' is not defined"
     ]
    }
   ],
   "source": [
    "img = cv2.imread(imagem1)\n",
    "# img = cv2.cvtColor(img, cv2.COLOR_BGR2GRAY) # converte\n",
    "suave = cv2.GaussianBlur(img, (7, 7), 0) # aplica blur\n",
    "T = mahotas.thresholding.otsu(suave)\n",
    "temp = img.copy()\n",
    "temp[temp > T] = 255\n",
    "temp[temp < 255] = 0\n",
    "temp = cv2.bitwise_not(temp)\n",
    "\n",
    "\n",
    "cv2.imshow(\"Binarização com método Otsu e Riddler-Calvard\",temp)\n",
    "cv2.waitKey(0)"
   ]
  },
  {
   "cell_type": "markdown",
   "metadata": {},
   "source": [
    "# Exercicio 3 "
   ]
  },
  {
   "cell_type": "code",
   "execution_count": null,
   "metadata": {},
   "outputs": [],
   "source": [
    "img = cv2.imread(imagem1)\n",
    "img = cv2.cvtColor(img, cv2.COLOR_BGR2GRAY) # converte\n",
    "suave = cv2.GaussianBlur(img, (7, 7), 0) # aplica blur\n",
    "T = mahotas.thresholding.otsu(suave)\n",
    "temp = img.copy()\n",
    "temp[temp > T] = 255\n",
    "temp[temp < 255] = 0\n",
    "temp = cv2.bitwise_not(temp)\n",
    "cv2.imshow(\"Binarização com método Otsu e Riddler-Calvard\",temp)\n",
    "cv2.waitKey(0)"
   ]
  },
  {
   "cell_type": "markdown",
   "metadata": {},
   "source": [
    "# Exercicio 5"
   ]
  },
  {
   "cell_type": "code",
   "execution_count": null,
   "metadata": {},
   "outputs": [],
   "source": [
    "import numpy as np\n",
    "import cv2\n",
    "from matplotlib import pyplot as plt\n",
    "import matplotlib\n",
    "from skimage.data import page\n",
    "from skimage.filters import (threshold_otsu, threshold_niblack,threshold_sauvola)\n",
    "import mahotas\n",
    "\n",
    "img = cv2.imread(imagem1)\n",
    "Z = img.reshape((-1,3))\n",
    "# convert to np.float32\n",
    "Z = np.float32(Z)\n",
    "# define criteria, number of clusters(K) and apply kmeans()\n",
    "criteria = (cv2.TERM_CRITERIA_EPS + cv2.TERM_CRITERIA_MAX_ITER, 10, 1.0)\n",
    "K = 8\n",
    "ret,label,center=cv2.kmeans(Z,K,None,criteria,10,cv2.KMEANS_RANDOM_CENTERS)\n",
    "# Now convert back into uint8, and make original image\n",
    "center = np.uint8(center)\n",
    "res = center[label.flatten()]\n",
    "res2 = res.reshape((img.shape))\n",
    "cv2.imshow('res2',res2)\n",
    "cv2.waitKey(0)\n",
    "cv2.destroyAllWindows()\n",
    "# print(center)\n",
    "# print(label)"
   ]
  },
  {
   "cell_type": "code",
   "execution_count": 7,
   "metadata": {},
   "outputs": [],
   "source": [
    "#Retorna quantidade de cores (pode se considerar o k como quantidade de cores)\n",
    "def retornaQuantidadeCores(imagem1):\n",
    "    img = cv2.imread(imagem1)\n",
    "\n",
    "    for x in range(img.shape[0]-1):\n",
    "        result = np.unique(np.concatenate((np.unique(img[x],axis=0),np.unique(img[x+1],axis=0)),axis=0),axis=0)\n",
    "    return result"
   ]
  },
  {
   "cell_type": "code",
   "execution_count": 8,
   "metadata": {},
   "outputs": [],
   "source": [
    "def verificaVetoresIguais(v1,v2):\n",
    "    for x in range(0, len(v1)):\n",
    "        if(v1[x] != v2[x]):\n",
    "            return False\n",
    "    return True"
   ]
  },
  {
   "cell_type": "code",
   "execution_count": 9,
   "metadata": {},
   "outputs": [],
   "source": [
    "def adicionaContador(cores,vet,quant):\n",
    "    for x in range(0,len(cores)):\n",
    "        if(verificaVetoresIguais(cores[x],vet)):\n",
    "            quant[x] = quant[x] + 1\n",
    "            break"
   ]
  },
  {
   "cell_type": "code",
   "execution_count": 10,
   "metadata": {},
   "outputs": [],
   "source": [
    "imagemKmeas = 'k8.png'\n",
    "img = cv2.imread(imagemKmeas)\n",
    "cores = retornaQuantidadeCores(imagemKmeas)\n",
    "\n",
    "contador = [0]*cores.shape[0]\n",
    "\n",
    "for y in range(0,img.shape[1]):\n",
    "    for x in range (0, img.shape[0]):\n",
    "        adicionaContador(cores,img[x][y],contador)\n"
   ]
  },
  {
   "cell_type": "code",
   "execution_count": 11,
   "metadata": {},
   "outputs": [],
   "source": [
    "import numpy as np\n",
    "import cv2\n",
    "from matplotlib import pyplot as plt\n",
    "import matplotlib\n",
    "from skimage.data import page\n",
    "from skimage.filters import (threshold_otsu, threshold_niblack,threshold_sauvola)\n",
    "import mahotas\n",
    "import sys\n",
    "\n",
    "a = 30\n",
    "b = 50\n",
    "c = 0\n",
    "for x in range(0,len(cores)):\n",
    "    cor = (cores[x][0],cores[x][1],cores[x][2])\n",
    "    img[a:b, :] = cor\n",
    "    a = b\n",
    "    b = b + 30\n"
   ]
  },
  {
   "cell_type": "code",
   "execution_count": 12,
   "metadata": {},
   "outputs": [
    {
     "data": {
      "text/plain": [
       "229"
      ]
     },
     "execution_count": 12,
     "metadata": {},
     "output_type": "execute_result"
    }
   ],
   "source": [
    "cv2.imshow(\"Imagem alterada\", img)\n",
    "cv2.imwrite(\"alterada.jpg\", img)\n",
    "cv2.waitKey(0)"
   ]
  }
 ],
 "metadata": {
  "kernelspec": {
   "display_name": "Python 3",
   "language": "python",
   "name": "python3"
  },
  "language_info": {
   "codemirror_mode": {
    "name": "ipython",
    "version": 3
   },
   "file_extension": ".py",
   "mimetype": "text/x-python",
   "name": "python",
   "nbconvert_exporter": "python",
   "pygments_lexer": "ipython3",
   "version": "3.7.2"
  }
 },
 "nbformat": 4,
 "nbformat_minor": 2
}
